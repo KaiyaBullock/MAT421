{
  "nbformat": 4,
  "nbformat_minor": 0,
  "metadata": {
    "colab": {
      "provenance": [],
      "authorship_tag": "ABX9TyOEmclq3RY06caLCrOMcUXf",
      "include_colab_link": true
    },
    "kernelspec": {
      "name": "python3",
      "display_name": "Python 3"
    },
    "language_info": {
      "name": "python"
    }
  },
  "cells": [
    {
      "cell_type": "markdown",
      "metadata": {
        "id": "view-in-github",
        "colab_type": "text"
      },
      "source": [
        "<a href=\"https://colab.research.google.com/github/KaiyaBullock/MAT421/blob/main/ModC.ipynb\" target=\"_parent\"><img src=\"https://colab.research.google.com/assets/colab-badge.svg\" alt=\"Open In Colab\"/></a>"
      ]
    },
    {
      "cell_type": "markdown",
      "source": [
        "# Chapter 19: Finding Roots\n",
        "\n",
        "The root of a function $f(x_{r})$ is an $x_{r}$ such that $f(x_{r})=0$\n",
        "\n",
        "Below is the code used to find the root of the function $sin(x)-x$ near 2"
      ],
      "metadata": {
        "id": "19cmcmkqZO1N"
      }
    },
    {
      "cell_type": "code",
      "source": [
        "import numpy as np\n",
        "from scipy import optimize\n",
        "\n",
        "f = lambda x: np.sin(x) - x\n",
        "r = optimize.fsolve(f,2)\n",
        "print(\"r =\", r)\n",
        "\n",
        "result = f(r)\n",
        "print(\"result =\", result)"
      ],
      "metadata": {
        "colab": {
          "base_uri": "https://localhost:8080/"
        },
        "id": "LSRPUueFZ0-1",
        "outputId": "a2cbb5d5-f8dd-4b5c-a5d7-0638adf53b24"
      },
      "execution_count": null,
      "outputs": [
        {
          "output_type": "stream",
          "name": "stdout",
          "text": [
            "r = [2.07167136e-08]\n",
            "result = [0.]\n"
          ]
        }
      ]
    },
    {
      "cell_type": "markdown",
      "source": [
        "### Tolerance\n",
        "There are two ways we measure error in roots. Since for computing roots, we want $x_{r}$ such that $f(x_{r})$ is very close to $0$, and we can eith find $|f(x)|$ or $|x_{i+1}-x_{i}|$"
      ],
      "metadata": {
        "id": "OVHa2N6ZgTfp"
      }
    },
    {
      "cell_type": "markdown",
      "source": [
        "### Bisection Method\n",
        "Intermediate Value Theorem says if $f(x)$ is continuous between $a$ and $b$ and $sign(f(a))!=sign(f(b))$, then there must be a $c$, such that $a<c<b$ and $f(c)=0$\n",
        "\n",
        "Bisection Method uses this recursively find the midpoint of two values and comparing that to zero.\n",
        "\n",
        "Below is a function definition called *my_bisection(f,a,b,tol)* that approxiamtes a root $r$ of $f$, bounded by $a$ and $b$ within $|f(\\frac{a+b}{2})|<tol$"
      ],
      "metadata": {
        "id": "lxFRD4fbiMy7"
      }
    },
    {
      "cell_type": "code",
      "source": [
        "import numpy as np\n",
        "\n",
        "def my_bisection(f, a, b, tol):\n",
        "  if np.sign(f(a)) == np.sign(f(b)):\n",
        "    raise Exception(\"The scalars a and b do not bound a root\")\n",
        "\n",
        "  m = (a + b)/2\n",
        "\n",
        "  if np.abs(f(m)) < tol:\n",
        "    return m\n",
        "  elif np.sign(f(a)) == np.sign(f(m)):\n",
        "    return my_bisection(f, m, b, tol)\n",
        "  elif np.sign(f(b)) == np.sign(f(m)):\n",
        "    return my_bisection(f, a, m, tol)\n",
        "\n",
        "f = lambda x: x**2 - 3\n",
        "\n",
        "r1 = my_bisection(f, 0, 3, 0.1)\n",
        "print(\"r1 =\", r1)\n",
        "r01 = my_bisection(f, 0, 3, 0.01)\n",
        "print(\"r1 =\", r01)\n",
        "\n",
        "print(\"f(r1) =\", f(r1))\n",
        "print(\"f(r01) =\", f(r01))"
      ],
      "metadata": {
        "colab": {
          "base_uri": "https://localhost:8080/"
        },
        "id": "4d0PKfrilSCE",
        "outputId": "8e821529-0f8e-4d25-a153-267e639774b5"
      },
      "execution_count": 26,
      "outputs": [
        {
          "output_type": "stream",
          "name": "stdout",
          "text": [
            "r1 = 1.734375\n",
            "r1 = 1.734375\n",
            "f(r1) = 0.008056640625\n",
            "f(r01) = 0.008056640625\n"
          ]
        }
      ]
    },
    {
      "cell_type": "markdown",
      "source": [
        "###  Newton_Raphson Method\n",
        "A Newton step computes an improved guess, $x_{i}$, using a previous one $x_{i-1}$ and is written $x_{i}=x_{i-1}-\\frac{g(x_{i-1})}{g'(x_{i-1})}$ This is iterated until the error is less than the tolerance.\n",
        "\n",
        "The root of the previous example is $\\sqrt3$. The code below compares this to the result using the function above at the starting point $x_{0}=1.7$."
      ],
      "metadata": {
        "id": "Wgd-v0VWuO5z"
      }
    },
    {
      "cell_type": "code",
      "source": [
        "import numpy as np\n",
        "\n",
        "f = lambda x: x**2 - 3\n",
        "f_prime = lambda x: 2*x\n",
        "newton_raphson = 1.7 - (f(1.7))/(f_prime(1.7))\n",
        "\n",
        "print(\"newton_raphson =\", newton_raphson)\n",
        "print(\"sqrt(3) =\", np.sqrt(3))"
      ],
      "metadata": {
        "colab": {
          "base_uri": "https://localhost:8080/"
        },
        "id": "HtLYV7GIxN2W",
        "outputId": "e8c9c438-a3df-47f8-e346-1d2d3a3a197f"
      },
      "execution_count": 28,
      "outputs": [
        {
          "output_type": "stream",
          "name": "stdout",
          "text": [
            "newton_raphson = 1.7323529411764707\n",
            "sqrt(3) = 1.7320508075688772\n"
          ]
        }
      ]
    },
    {
      "cell_type": "markdown",
      "source": [
        "### Root Finding in Python\n",
        "\n",
        "Python has an existing funcction to find roots. Below in an example using the function $f(x)=2x^2+4x-6$"
      ],
      "metadata": {
        "id": "3A0vzZ4bzcCu"
      }
    },
    {
      "cell_type": "code",
      "source": [
        "from scipy.optimize import fsolve\n",
        "\n",
        "f = lambda x: 2*(x**2)+4*x-6\n",
        "\n",
        "fsolve(f, [-2,5])"
      ],
      "metadata": {
        "colab": {
          "base_uri": "https://localhost:8080/"
        },
        "id": "jDiS4434zxiS",
        "outputId": "b1596557-34f4-44ff-9f64-25b962f1323a"
      },
      "execution_count": 37,
      "outputs": [
        {
          "output_type": "execute_result",
          "data": {
            "text/plain": [
              "array([-3.,  1.])"
            ]
          },
          "metadata": {},
          "execution_count": 37
        }
      ]
    },
    {
      "cell_type": "markdown",
      "source": [
        "This yeilds the roots of $x=-3$ and $x=1$"
      ],
      "metadata": {
        "id": "sa8OqMmT10VX"
      }
    }
  ]
}