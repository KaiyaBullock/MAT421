{
  "nbformat": 4,
  "nbformat_minor": 0,
  "metadata": {
    "colab": {
      "provenance": [],
      "authorship_tag": "ABX9TyOC1KSAUyE3uQGfnrUn07Hc",
      "include_colab_link": true
    },
    "kernelspec": {
      "name": "python3",
      "display_name": "Python 3"
    },
    "language_info": {
      "name": "python"
    }
  },
  "cells": [
    {
      "cell_type": "markdown",
      "metadata": {
        "id": "view-in-github",
        "colab_type": "text"
      },
      "source": [
        "<a href=\"https://colab.research.google.com/github/KaiyaBullock/MAT421/blob/main/ModG_Part1.ipynb\" target=\"_parent\"><img src=\"https://colab.research.google.com/assets/colab-badge.svg\" alt=\"Open In Colab\"/></a>"
      ]
    },
    {
      "cell_type": "markdown",
      "source": [
        "# Numerical Integration\n",
        "Given a function $f(x)$, we want to approxiamte the integral over the interval $[a,b]$. To do this we break the interval into $n+1$ points with spacing $h=\\frac{b-a}{n}$. These points are denoted using $x_i$. The interval $[x_{i},x_{i+1}]$ is the subinterval.\n",
        "\n",
        "The integral is usually written $∫_{a}^{b}f(x)dx$"
      ],
      "metadata": {
        "id": "9J9ro_Sl6ZBH"
      }
    },
    {
      "cell_type": "markdown",
      "source": [
        "# Reimann's Integral\n",
        "Reimann sums are the simplest way to approxiamte the integral. These divide the area under the curve into rectangles with width $w$, which is taken from the interval size divided by the number of points, and height $f(x)$, which can be taken from the left endpoint, right endpoint, or midpoint of each rectangle.\n",
        "\n",
        "$∫^{b}_{a}f(x)dx≈∑_{i=0}^{n−1}hf(x_i)$,\n",
        "\n",
        "or $∫^{b}_{a}f(x)dx≈∑_{i=1}^{n}hf(x_i)$,\n",
        "\n",
        "or $∫^{b}_{a}f(x)dx≈∑_{i=0}^{n−1}hf(\\frac{x_{i+1}+x_i}{2})$\n",
        "\n",
        "Below is an example of each Reimann sum for $f(x)=x^2+5. Note that the midpoint tends to be the most accurate overall whereas left and right are dependent on the shape of the curve."
      ],
      "metadata": {
        "id": "jwkfSBWb76HG"
      }
    },
    {
      "cell_type": "code",
      "source": [
        "import numpy as np\n",
        "\n",
        "a = 0\n",
        "b = 4\n",
        "n = 21\n",
        "h = (b - a)/(n - 1)\n",
        "x = np.linspace(a, b, n)\n",
        "f = x**2 + 5\n",
        "\n",
        "I_reimannL = h * sum(f[:n-1])\n",
        "err_reimannL = (124/3) - I_reimannL\n",
        "\n",
        "I_reimannR = h * sum(f[1::])\n",
        "err_reimannR = (124/3) - I_reimannR\n",
        "\n",
        "I_reimannM = h * sum((f[:n-1] + f[1:])/2)\n",
        "err_reimannM = (124/3) - I_reimannM\n",
        "\n",
        "print(I_reimannL)\n",
        "print(err_reimannL)\n",
        "print(I_reimannR)\n",
        "print(err_reimannR)\n",
        "print(I_reimannM)\n",
        "print(err_reimannM)"
      ],
      "metadata": {
        "colab": {
          "base_uri": "https://localhost:8080/"
        },
        "id": "Sh8NU-wh-xjf",
        "outputId": "b3e29d96-0591-4a0b-aa00-e827e008016b"
      },
      "execution_count": 3,
      "outputs": [
        {
          "output_type": "stream",
          "name": "stdout",
          "text": [
            "39.76000000000001\n",
            "1.5733333333333235\n",
            "42.96000000000001\n",
            "-1.6266666666666723\n",
            "41.36\n",
            "-0.02666666666666373\n"
          ]
        }
      ]
    },
    {
      "cell_type": "markdown",
      "source": [
        "# Trapezoidal Rule\n",
        "Similiar to Reimann, the trapezoidal rules breaks the interval into sections. These are trapezoids instead of rectangles so the sum of their areas is more accurate.\n",
        "\n",
        "$∫_{a}^{b}f(x)dx≈∑_{i=0}^{n−1}h\\frac{f(x_i)+f(x_{x+1})}{2}$"
      ],
      "metadata": {
        "id": "RcpYEqGBAhf1"
      }
    },
    {
      "cell_type": "code",
      "source": [
        "import numpy as np\n",
        "\n",
        "a = 0\n",
        "b = 4\n",
        "n = 21\n",
        "h = (b-a)/(n-1)\n",
        "x = np.linspace(a,b,n)\n",
        "f = x**2 + 5\n",
        "\n",
        "I_trap = (h/2) * (f[0] + \\\n",
        "          2 * sum(f[1:n-1])+ f[n-1])\n",
        "err_trap = (124/3) - I_trap\n",
        "\n",
        "print(I_trap)\n",
        "print(err_trap)"
      ],
      "metadata": {
        "colab": {
          "base_uri": "https://localhost:8080/"
        },
        "id": "x_Hr287XB-R5",
        "outputId": "0a892e26-a6a6-4710-d3ba-6a9ad2879f8c"
      },
      "execution_count": 4,
      "outputs": [
        {
          "output_type": "stream",
          "name": "stdout",
          "text": [
            "41.360000000000014\n",
            "-0.02666666666667794\n"
          ]
        }
      ]
    }
  ]
}