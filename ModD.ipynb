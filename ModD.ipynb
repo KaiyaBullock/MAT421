{
  "nbformat": 4,
  "nbformat_minor": 0,
  "metadata": {
    "colab": {
      "provenance": [],
      "authorship_tag": "ABX9TyOGe6rwQzsiPeqEeuSM80os",
      "include_colab_link": true
    },
    "kernelspec": {
      "name": "python3",
      "display_name": "Python 3"
    },
    "language_info": {
      "name": "python"
    }
  },
  "cells": [
    {
      "cell_type": "markdown",
      "metadata": {
        "id": "view-in-github",
        "colab_type": "text"
      },
      "source": [
        "<a href=\"https://colab.research.google.com/github/KaiyaBullock/MAT421/blob/main/ModD.ipynb\" target=\"_parent\"><img src=\"https://colab.research.google.com/assets/colab-badge.svg\" alt=\"Open In Colab\"/></a>"
      ]
    },
    {
      "cell_type": "markdown",
      "source": [
        "# Linear Algebra\n",
        "### 1.2.1 Linear Combinations\n",
        "A linear combination is a vector made by multiplying individual vectors by a scaler and adding the resulting vectors. A linear subspace is a result of linear combinations.\n",
        "\n",
        "The below exmaple writes the vector [1,4,5] as a linear combination of vectors"
      ],
      "metadata": {
        "id": "WBymWvWBbZQp"
      }
    },
    {
      "cell_type": "code",
      "source": [
        "import numpy as np\n",
        "\n",
        "vector_one = np.array([0,2,2])\n",
        "vector_two = np.array([1,0,1])\n",
        "\n",
        "x = vector_one*2\n",
        "y = vector_two*1\n",
        "\n",
        "z = np.array([1,4,5])\n",
        "\n",
        "result = x + y\n",
        "print(result)\n",
        "print(result == z)"
      ],
      "metadata": {
        "colab": {
          "base_uri": "https://localhost:8080/"
        },
        "id": "fkq9nAffcXPu",
        "outputId": "164a080b-9687-4480-cb7b-bd82132b5e18"
      },
      "execution_count": 1,
      "outputs": [
        {
          "output_type": "stream",
          "name": "stdout",
          "text": [
            "[1 4 5]\n",
            "[ True  True  True]\n"
          ]
        }
      ]
    },
    {
      "cell_type": "markdown",
      "source": [
        "### 1.2 Linear Independence and Dimension\n",
        "A set of vectors are **linearly independent** if none of them can be written as a combination of the other, in otherwords there is no redundancy. With linearly independent vectors, the only way to get to the zero vector would to multiply by a scalar of zero.\n",
        "\n",
        "A **Basis** is a set of linearly independent vectors that generates every element of the vector space\n",
        "\n",
        "The dimension of a vector spece is equal to the number of elememts. The **Dimension Theorem** says that for any linear subspace U of V, any basis or bases of U will have the same number of elements, $dim(U)$\n",
        "\n",
        "In the below example we check if given vectors are linearly independent by setting them equal to the zero vector. This equation is set up as $c_{1}*vec1 + c_{2}*vec2 +c_{3}*vec3 = [0,0,0]$, so if we recieve a result of [0,0,0], the vectors are linearly independent"
      ],
      "metadata": {
        "id": "pYRzhLlldFbC"
      }
    },
    {
      "cell_type": "code",
      "source": [
        "A = np.array([[4,3,5], [5,2,1], [4,7,8]])\n",
        "B = np.array([[1,2,3], [5,2,3], [3,7,9]])\n",
        "z = np.array([0,0,0])\n",
        "\n",
        "x = np.linalg.solve(A,z)\n",
        "y - np.linalg.solve(B,z)\n",
        "\n",
        "print(x)\n",
        "print(y)"
      ],
      "metadata": {
        "colab": {
          "base_uri": "https://localhost:8080/"
        },
        "id": "yHJN0FYYgcbc",
        "outputId": "48d1dee2-b9fb-4fbe-beb9-fb21c46cc7a7"
      },
      "execution_count": 9,
      "outputs": [
        {
          "output_type": "stream",
          "name": "stdout",
          "text": [
            "[0. 0. 0.]\n",
            "[0 0 0]\n"
          ]
        }
      ]
    },
    {
      "cell_type": "markdown",
      "source": [
        "### Orthonormal Bases\n",
        "A list of vectors $s$ {$u_1, ..., u_m$} is **orthonormal** if all of the vectors are pairwise orthogonal and each has a norm of one\n",
        "\n",
        "Let $U⊆V$ be a linear subspece with orthonormal basis $q_1, ..., q_m$. The **Orthonormal Projection** of v∈V on $U$ is $P_U v = ∑_{j=1}^{m}⟨v, q_j⟩ q_j$\n",
        "\n",
        "**Best Approxiamtion Theorem**: Let $U⊆V$ be a linear subspace with orthogonal basis $q_1,...,q_m$ and let v∈V. For any u∈U, $||v-P_U v|| ≤  ||v-u||$\n",
        "\n",
        "**Pythagorean Theorem**: Let $u,v∈V$ be orthogonal. Then $||u+v||^2 = ||u||^2 + ||v||^2$\n",
        "\n",
        "**Cauchy-Schwarz**: For any $u,v∈V, |⟨u,v⟩|≤ ||u||*||v||$\n",
        "\n",
        "**Gram-Schmidt**: Let $a_1,...,a_m$ in $R^n$ be linearly independent. Then there exist an orthonormal basis $q_1,...,q_m$ of $span(a_1,...,a_m)$"
      ],
      "metadata": {
        "id": "z7Y0w22th2MQ"
      }
    },
    {
      "cell_type": "markdown",
      "source": [
        "### Eigenvalues and Eigenvectors\n",
        "Let $A$ be a square matrix in the real number system. Then $λ∈R$ is an **eigenvalue** of $A$ if there exists a nonzero vector $x$ such that $Ax = λx$. This vector x is the **eigenvector**\n",
        "\n",
        "The code below finds the eigenvalue and eigenvector for a given vector space"
      ],
      "metadata": {
        "id": "mCxr4Dayp1a7"
      }
    },
    {
      "cell_type": "code",
      "source": [
        "import numpy as np\n",
        "from numpy.linalg import eig\n",
        "\n",
        "x = np.array([[1,2], [3,5]])\n",
        "w,v = eig(x)\n",
        "\n",
        "print('Eigenvalue:', w)\n",
        "print('Eigenvector:', v)"
      ],
      "metadata": {
        "colab": {
          "base_uri": "https://localhost:8080/"
        },
        "id": "lTCkYwmuqvVn",
        "outputId": "7a7c9960-6a7a-4db2-c108-e5314206e9e6"
      },
      "execution_count": 11,
      "outputs": [
        {
          "output_type": "stream",
          "name": "stdout",
          "text": [
            "Eigenvalue: [-0.16227766  6.16227766]\n",
            "Eigenvector: [[-0.86460354 -0.36126098]\n",
            " [ 0.50245469 -0.93246475]]\n"
          ]
        }
      ]
    },
    {
      "cell_type": "markdown",
      "source": [
        "### 1.3 Linear Regression\n",
        "**QR Decompression** breaks down a matrix $A$ into two matricies that produce $A$ when multiplied together ($A = QR$). These matricies $Q$ and $R$ can be found using the Gram-Schmidt process."
      ],
      "metadata": {
        "id": "gOTJSP9MrVmc"
      }
    },
    {
      "cell_type": "code",
      "source": [
        "import numpy as np\n",
        "from numpy.linalg import qr\n",
        "\n",
        "x = np.array([[1,3], [4,7]])\n",
        "\n",
        "Q,R = qr(x)\n",
        "print('Q:', Q)\n",
        "print('R:', R)\n",
        "\n",
        "y = np.dot(Q,R)\n",
        "print('QR:', y)\n",
        "\n",
        "iterations = [1,20]\n",
        "for i in range(20):\n",
        "  Q,R = qr(x)\n",
        "  x = np.dot(R,Q)\n",
        "  if i+1 in iterations:\n",
        "    print(f'Iteration {i+1}:')\n",
        "    print(x)"
      ],
      "metadata": {
        "colab": {
          "base_uri": "https://localhost:8080/"
        },
        "id": "62w2D1eZsm7m",
        "outputId": "6d0c3322-76a6-4245-ba86-18a660ef69a2"
      },
      "execution_count": 13,
      "outputs": [
        {
          "output_type": "stream",
          "name": "stdout",
          "text": [
            "Q: [[-0.24253563 -0.9701425 ]\n",
            " [-0.9701425   0.24253563]]\n",
            "R: [[-4.12310563 -7.51860438]\n",
            " [ 0.         -1.21267813]]\n",
            "QR: [[1. 3.]\n",
            " [4. 7.]]\n",
            "Iteration 1:\n",
            "[[ 8.29411765  2.17647059]\n",
            " [ 1.17647059 -0.29411765]]\n",
            "Iteration 20:\n",
            "[[ 8.58257569e+00 -1.00000000e+00]\n",
            " [ 7.82988236e-23 -5.82575695e-01]]\n"
          ]
        }
      ]
    },
    {
      "cell_type": "markdown",
      "source": [
        "### Least Squares Problems\n",
        "The system $Ax=b$ is often inconsistent. Thus, we look to use $Ax$ to approximate $b$. In this case we are interested in overdetermined systems where $n>m$. With the QR breakdown we get $Rx=Q^Tb$ which can be solved by backwards substitution."
      ],
      "metadata": {
        "id": "FEJLcPKDtu31"
      }
    }
  ]
}