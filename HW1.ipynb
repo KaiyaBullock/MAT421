{
  "nbformat": 4,
  "nbformat_minor": 0,
  "metadata": {
    "colab": {
      "provenance": [],
      "authorship_tag": "ABX9TyMGX4Fsw8rqirVWvrJ4dhfA",
      "include_colab_link": true
    },
    "kernelspec": {
      "name": "python3",
      "display_name": "Python 3"
    },
    "language_info": {
      "name": "python"
    }
  },
  "cells": [
    {
      "cell_type": "markdown",
      "metadata": {
        "id": "view-in-github",
        "colab_type": "text"
      },
      "source": [
        "<a href=\"https://colab.research.google.com/github/KaiyaBullock/MAT421/blob/main/HW1.ipynb\" target=\"_parent\"><img src=\"https://colab.research.google.com/assets/colab-badge.svg\" alt=\"Open In Colab\"/></a>"
      ]
    },
    {
      "cell_type": "markdown",
      "source": [
        "# 9.1 Base-N and Binary:\n",
        "\n",
        "As people, we typically use a base10 system were each digit of a number is associated with a power of 10, yeilding the digits 0-9.\n",
        "\n",
        "Computers compute in base2 or binary. This means each digit will be assiciated with a power of 2, leading to the only digits being 0 and 1.\n"
      ],
      "metadata": {
        "id": "xvUShFfAu7xa"
      }
    },
    {
      "cell_type": "markdown",
      "source": [
        "Converting from base10 to base2"
      ],
      "metadata": {
        "id": "iwLKq43gwkuG"
      }
    },
    {
      "cell_type": "code",
      "source": [
        "bin(53) #python uses the bin() command to convert to binary\n"
      ],
      "metadata": {
        "colab": {
          "base_uri": "https://localhost:8080/",
          "height": 36
        },
        "id": "YEBmHEbOw7b4",
        "outputId": "3af46511-0659-4c64-fe93-e23f208c2bae"
      },
      "execution_count": 3,
      "outputs": [
        {
          "output_type": "execute_result",
          "data": {
            "text/plain": [
              "'0b110101'"
            ],
            "application/vnd.google.colaboratory.intrinsic+json": {
              "type": "string"
            }
          },
          "metadata": {},
          "execution_count": 3
        }
      ]
    },
    {
      "cell_type": "code",
      "source": [
        "bin(648953)"
      ],
      "metadata": {
        "colab": {
          "base_uri": "https://localhost:8080/",
          "height": 36
        },
        "id": "zcEqPbHixPUN",
        "outputId": "932e2f20-157f-4c5c-a3cb-7298796b5931"
      },
      "execution_count": 4,
      "outputs": [
        {
          "output_type": "execute_result",
          "data": {
            "text/plain": [
              "'0b10011110011011111001'"
            ],
            "application/vnd.google.colaboratory.intrinsic+json": {
              "type": "string"
            }
          },
          "metadata": {},
          "execution_count": 4
        }
      ]
    },
    {
      "cell_type": "markdown",
      "source": [
        "Arithmetic can also be done in binary"
      ],
      "metadata": {
        "id": "itbeVRArxXU5"
      }
    },
    {
      "cell_type": "code",
      "source": [
        "bin(6)\n",
        "bin(13)\n",
        "x = 0b110;\n",
        "y = 0b1101;\n",
        "i = x + y;\n",
        "j = x * y;\n",
        "print(f\"{i:b}\")\n",
        "print(f\"{j:b}\")"
      ],
      "metadata": {
        "colab": {
          "base_uri": "https://localhost:8080/"
        },
        "id": "2TVJaJK0x7YA",
        "outputId": "97da7807-f21d-4513-eabf-c4655d885525"
      },
      "execution_count": 22,
      "outputs": [
        {
          "output_type": "stream",
          "name": "stdout",
          "text": [
            "10011\n",
            "1001110\n"
          ]
        }
      ]
    },
    {
      "cell_type": "markdown",
      "source": [
        "# 9.2 Floating Point Numbers:\n",
        "\n",
        "The number of bits is usually fixed for any given computer. Instead of utilizing each bit as the coefficient of a power of 2, floats allocate bits to three different parts:\n",
        "\n",
        "*   the sign indicator, s (1 bit)\n",
        "*   characteristic or exponent, e (11 bits)\n",
        "*   the fraction, f (52 bits)\n",
        "\n",
        "A float can be represented as: n=(-1)^s * 2^(e-1023) * (1+f)\n",
        "\n",
        "The distance from one number to the next is the gap. Because the fraction is multiplied by 2e−1023\n",
        ", the gap grows as the number represented grows. The gap at a given number can be computed using the function spacing in numpy.\n"
      ],
      "metadata": {
        "id": "QJNzeJKO4A_z"
      }
    },
    {
      "cell_type": "code",
      "source": [
        "import numpy as np\n",
        "np.spacing(1e7) #yeilds the gap at 1e7\n",
        "1e7 == (1e7 + np.spacing(1e7)/2) #adding half the gap yeilds the same number"
      ],
      "metadata": {
        "colab": {
          "base_uri": "https://localhost:8080/"
        },
        "id": "tgHH59Iu-If4",
        "outputId": "9d7fe4fb-2c11-449c-8300-cc56793bff46"
      },
      "execution_count": 25,
      "outputs": [
        {
          "output_type": "execute_result",
          "data": {
            "text/plain": [
              "True"
            ]
          },
          "metadata": {},
          "execution_count": 25
        }
      ]
    },
    {
      "cell_type": "markdown",
      "source": [
        "Overflow occurs when the result is larger than the largest representable floating point number, Python will assign the value inf in this case.\n",
        "\n",
        "The opposite is also possible, geetting a result that is smaller than the smallest subnormal number. This is underflow, and Python handles this case by assigning the result to 0.\n"
      ],
      "metadata": {
        "id": "9bbX2oL0_nPO"
      }
    },
    {
      "cell_type": "code",
      "source": [
        "1.8e308 #Overflow"
      ],
      "metadata": {
        "colab": {
          "base_uri": "https://localhost:8080/"
        },
        "id": "d948c95EAIc5",
        "outputId": "a170660e-f3c3-4136-e148-3493f4ecb252"
      },
      "execution_count": 28,
      "outputs": [
        {
          "output_type": "execute_result",
          "data": {
            "text/plain": [
              "inf"
            ]
          },
          "metadata": {},
          "execution_count": 28
        }
      ]
    },
    {
      "cell_type": "code",
      "source": [
        "2**-1075 #Underflow"
      ],
      "metadata": {
        "colab": {
          "base_uri": "https://localhost:8080/"
        },
        "id": "8XjbdmAsBx5Y",
        "outputId": "20bf5056-f94f-41af-829d-6f3ae318b291"
      },
      "execution_count": 29,
      "outputs": [
        {
          "output_type": "execute_result",
          "data": {
            "text/plain": [
              "0.0"
            ]
          },
          "metadata": {},
          "execution_count": 29
        }
      ]
    },
    {
      "cell_type": "markdown",
      "source": [
        "# 9.3 Round-off Errors:\n",
        "\n",
        "Floating point numbers can not be stored with perfect precision, instead the numbers are approximated by finite number of bytes. Therefore, the difference between an approximation of a number used in computation and its correct (true) value is called round-off error."
      ],
      "metadata": {
        "id": "N1vceM9EB6cX"
      }
    },
    {
      "cell_type": "markdown",
      "source": [
        "Using normal arithmetic 4.62 rounded to 4.5 had an error of 0.12. However due to round-off error this is not the case in Python"
      ],
      "metadata": {
        "id": "nCFUj9P5CUUV"
      }
    },
    {
      "cell_type": "code",
      "source": [
        "4.62 - 4.5 == 0.12"
      ],
      "metadata": {
        "colab": {
          "base_uri": "https://localhost:8080/"
        },
        "id": "0JA5QwfuCxUH",
        "outputId": "87dd854e-0ac7-4942-b206-1625bbcb5c41"
      },
      "execution_count": 30,
      "outputs": [
        {
          "output_type": "execute_result",
          "data": {
            "text/plain": [
              "False"
            ]
          },
          "metadata": {},
          "execution_count": 30
        }
      ]
    },
    {
      "cell_type": "code",
      "source": [
        "4.62 - 4.5"
      ],
      "metadata": {
        "colab": {
          "base_uri": "https://localhost:8080/"
        },
        "id": "_OHwPTP0C1aJ",
        "outputId": "e8f802ed-2c9c-4bb6-e3bd-c42f77b6ff47"
      },
      "execution_count": 31,
      "outputs": [
        {
          "output_type": "execute_result",
          "data": {
            "text/plain": [
              "0.1200000000000001"
            ]
          },
          "metadata": {},
          "execution_count": 31
        }
      ]
    },
    {
      "cell_type": "markdown",
      "source": [
        "This error can accumulate with the number of calculations, this is demonstrated in the code below by adding and subtracting the same value (3/7) repeatedly (to 1)"
      ],
      "metadata": {
        "id": "s4ZjoD1sC9Zv"
      }
    },
    {
      "cell_type": "code",
      "source": [
        "1 + 3/7 - 3/7"
      ],
      "metadata": {
        "colab": {
          "base_uri": "https://localhost:8080/"
        },
        "id": "nQ_7SCYRDLzA",
        "outputId": "609624ee-86f8-4602-ff61-217008792446"
      },
      "execution_count": 33,
      "outputs": [
        {
          "output_type": "execute_result",
          "data": {
            "text/plain": [
              "1.0"
            ]
          },
          "metadata": {},
          "execution_count": 33
        }
      ]
    },
    {
      "cell_type": "code",
      "source": [
        "def add_and_sub(i):\n",
        "  value = 1\n",
        "\n",
        "  for x in range(i): #this loop adds 3/7 i times\n",
        "    value += (3/7)\n",
        "\n",
        "  for x in range(i): #this loop subtracts 3/7 i times\n",
        "    value -= (3/7)\n",
        "\n",
        "  return value"
      ],
      "metadata": {
        "id": "8K9r2W3NDpgB"
      },
      "execution_count": 34,
      "outputs": []
    },
    {
      "cell_type": "code",
      "source": [
        "add_and_sub(100)"
      ],
      "metadata": {
        "colab": {
          "base_uri": "https://localhost:8080/"
        },
        "id": "LrHlrU9MEvJa",
        "outputId": "c8cbc018-70a7-4641-e90f-16d25484d56b"
      },
      "execution_count": 35,
      "outputs": [
        {
          "output_type": "execute_result",
          "data": {
            "text/plain": [
              "1.0000000000000007"
            ]
          },
          "metadata": {},
          "execution_count": 35
        }
      ]
    },
    {
      "cell_type": "code",
      "source": [
        "add_and_sub(1000)"
      ],
      "metadata": {
        "colab": {
          "base_uri": "https://localhost:8080/"
        },
        "id": "wjPVC5iyE7Dy",
        "outputId": "0079a80f-0df2-4235-c219-88f56e147db3"
      },
      "execution_count": 36,
      "outputs": [
        {
          "output_type": "execute_result",
          "data": {
            "text/plain": [
              "1.0000000000000149"
            ]
          },
          "metadata": {},
          "execution_count": 36
        }
      ]
    },
    {
      "cell_type": "code",
      "source": [
        "add_and_sub(10000)"
      ],
      "metadata": {
        "colab": {
          "base_uri": "https://localhost:8080/"
        },
        "id": "IJP5jM_hE7RT",
        "outputId": "0d14cfad-7c3d-48e1-9c01-b625babe81b6"
      },
      "execution_count": 37,
      "outputs": [
        {
          "output_type": "execute_result",
          "data": {
            "text/plain": [
              "1.0000000000000717"
            ]
          },
          "metadata": {},
          "execution_count": 37
        }
      ]
    }
  ]
}